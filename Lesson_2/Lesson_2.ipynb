{
 "cells": [
  {
   "cell_type": "markdown",
   "id": "c1a061e6-e12e-4bad-b4da-1bff0ae3a4a5",
   "metadata": {},
   "source": [
    "### Вычисления с помощью Numpy\n",
    "##### Задание 1\n",
    "Импортируйте библиотеку Numpy и дайте ей псевдоним np.\n",
    "Создайте массив Numpy под названием a размером 5x2, то есть состоящий из 5 строк и 2 столбцов. Первый столбец должен содержать числа 1, 2, 3, 3, 1, а второй - числа 6, 8, 11, 10, 7. Будем считать, что каждый столбец - это признак, а строка - наблюдение. Затем найдите среднее значение по каждому признаку, используя метод mean массива Numpy. Результат запишите в массив mean_a, в нем должно быть 2 элемента.\n"
   ]
  },
  {
   "cell_type": "code",
   "execution_count": 1,
   "id": "5f3f2594-359a-4529-b0ae-827c8ca09112",
   "metadata": {},
   "outputs": [],
   "source": [
    "import numpy as np"
   ]
  },
  {
   "cell_type": "code",
   "execution_count": 2,
   "id": "cd327f8b-aa30-456e-84f1-4d53c9344921",
   "metadata": {},
   "outputs": [],
   "source": [
    "a = np.array([[1, 6],\n",
    "              [2, 8],\n",
    "              [3, 11],\n",
    "              [3, 10],\n",
    "              [1, 7]])"
   ]
  },
  {
   "cell_type": "code",
   "execution_count": 3,
   "id": "4787d862-9f98-479f-bcfe-de4a50cb763d",
   "metadata": {},
   "outputs": [],
   "source": [
    "mean_a = a.mean(axis=0)"
   ]
  },
  {
   "cell_type": "code",
   "execution_count": 4,
   "id": "71bb1873-4220-41a1-b762-a850042742a3",
   "metadata": {},
   "outputs": [
    {
     "data": {
      "text/plain": [
       "array([2. , 8.4])"
      ]
     },
     "execution_count": 4,
     "metadata": {},
     "output_type": "execute_result"
    }
   ],
   "source": [
    "mean_a"
   ]
  },
  {
   "cell_type": "markdown",
   "id": "bd823992-9637-480d-be95-be2c82647e99",
   "metadata": {},
   "source": [
    "##### Задание 2\n",
    "Вычислите массив a_centered, отняв от значений массива “а” средние значения соответствующих признаков, содержащиеся в массиве mean_a. Вычисление должно производиться в одно действие. Получившийся массив должен иметь размер 5x2."
   ]
  },
  {
   "cell_type": "code",
   "execution_count": 5,
   "id": "dddaf76a-61e0-47a9-9868-dbe3ce87a767",
   "metadata": {},
   "outputs": [],
   "source": [
    "a_centered = a - mean_a"
   ]
  },
  {
   "cell_type": "code",
   "execution_count": 6,
   "id": "f2b4604d-c6c8-423c-bd7b-d383c569cc37",
   "metadata": {},
   "outputs": [
    {
     "data": {
      "text/plain": [
       "array([[-1. , -2.4],\n",
       "       [ 0. , -0.4],\n",
       "       [ 1. ,  2.6],\n",
       "       [ 1. ,  1.6],\n",
       "       [-1. , -1.4]])"
      ]
     },
     "execution_count": 6,
     "metadata": {},
     "output_type": "execute_result"
    }
   ],
   "source": [
    "a_centered"
   ]
  },
  {
   "cell_type": "markdown",
   "id": "c2654b61-c9d8-4a44-8378-bc30d000a43a",
   "metadata": {},
   "source": [
    "##### Задание 3\n",
    "Найдите скалярное произведение столбцов массива a_centered. В результате должна получиться величина a_centered_sp. Затем поделите a_centered_sp на N-1, где N - число наблюдений."
   ]
  },
  {
   "cell_type": "code",
   "execution_count": 7,
   "id": "5ff68f66-fb11-4009-874b-cb8d238fb8c6",
   "metadata": {},
   "outputs": [
    {
     "data": {
      "text/plain": [
       "array([[-1. ,  0. ,  1. ,  1. , -1. ],\n",
       "       [-2.4, -0.4,  2.6,  1.6, -1.4]])"
      ]
     },
     "execution_count": 7,
     "metadata": {},
     "output_type": "execute_result"
    }
   ],
   "source": [
    "a_centered.T"
   ]
  },
  {
   "cell_type": "code",
   "execution_count": 8,
   "id": "c32735ee-8a8c-443a-9f2b-ab9c274131af",
   "metadata": {},
   "outputs": [],
   "source": [
    "a_centered_sp = a_centered.T[0] @ a_centered.T[1]"
   ]
  },
  {
   "cell_type": "code",
   "execution_count": 9,
   "id": "55d54555-00ff-40b4-8990-e1f0e0f7ea57",
   "metadata": {},
   "outputs": [
    {
     "data": {
      "text/plain": [
       "8.0"
      ]
     },
     "execution_count": 9,
     "metadata": {},
     "output_type": "execute_result"
    }
   ],
   "source": [
    "a_centered_sp"
   ]
  },
  {
   "cell_type": "code",
   "execution_count": 10,
   "id": "0e4ba7e3-864a-4a65-94c8-99fd5ea76eed",
   "metadata": {},
   "outputs": [
    {
     "data": {
      "text/plain": [
       "2.0"
      ]
     },
     "execution_count": 10,
     "metadata": {},
     "output_type": "execute_result"
    }
   ],
   "source": [
    "a_centered_sp / (len(a) - 1)"
   ]
  },
  {
   "cell_type": "markdown",
   "id": "af74e841-d603-4578-b1f3-8d2e9846be0b",
   "metadata": {},
   "source": [
    "##### Задание 4**\n",
    "Число, которое мы получили в конце задания 3 является ковариацией двух признаков, содержащихся в массиве “а”. В задании 4 мы делили сумму произведений центрированных признаков на N-1, а не на N, поэтому полученная нами величина является несмещенной оценкой ковариации.\n",
    "В этом задании проверьте получившееся число, вычислив ковариацию еще одним способом - с помощью функции np.cov. В качестве аргумента m функция np.cov должна принимать транспонированный массив “a”. В получившейся ковариационной матрице (массив Numpy размером 2x2) искомое значение ковариации будет равно элементу в строке с индексом 0 и столбце с индексом 1."
   ]
  },
  {
   "cell_type": "markdown",
   "id": "55e5eab8-8448-48c4-bb3b-412d1c040f66",
   "metadata": {},
   "source": [
    "Первый вариант решения(по тексту задачи):"
   ]
  },
  {
   "cell_type": "code",
   "execution_count": 11,
   "id": "d5e4b02b-2a3d-4d34-9ece-249363af8e95",
   "metadata": {},
   "outputs": [
    {
     "data": {
      "text/plain": [
       "2.0"
      ]
     },
     "execution_count": 11,
     "metadata": {},
     "output_type": "execute_result"
    }
   ],
   "source": [
    "np.cov(a.T)[0][1]"
   ]
  },
  {
   "cell_type": "markdown",
   "id": "9d886c17-6108-4e27-9a00-74961011e88e",
   "metadata": {},
   "source": [
    "Второй вариант решения(используя параметр rowvar функции np.cov, чтобы не транспонировать массив):"
   ]
  },
  {
   "cell_type": "code",
   "execution_count": 12,
   "id": "f5cb9842-0aeb-4fef-82d2-1aa1e111dfa0",
   "metadata": {},
   "outputs": [
    {
     "data": {
      "text/plain": [
       "2.0"
      ]
     },
     "execution_count": 12,
     "metadata": {},
     "output_type": "execute_result"
    }
   ],
   "source": [
    "np.cov(a, rowvar=False)[0][1]"
   ]
  },
  {
   "cell_type": "markdown",
   "id": "79481b95-cecb-4ec1-acdf-cd59a3fe6f13",
   "metadata": {},
   "source": [
    "### Работа с данными в Pandas\n",
    "##### Задание 1\n",
    "Импортируйте библиотеку Pandas и дайте ей псевдоним pd. Создайте датафрейм authors со столбцами author_id и author_name, в которых соответственно содержатся данные: [1, 2, 3] и ['Тургенев', 'Чехов', 'Островский'].\n",
    "Затем создайте датафрейм book cо столбцами author_id, book_title и price, в которых соответственно содержатся данные:  \n",
    "[1, 1, 1, 2, 2, 3, 3],\n",
    "['Отцы и дети', 'Рудин', 'Дворянское гнездо', 'Толстый и тонкий', 'Дама с собачкой', 'Гроза', 'Таланты и поклонники'],\n",
    "[450, 300, 350, 500, 450, 370, 290]."
   ]
  },
  {
   "cell_type": "code",
   "execution_count": 13,
   "id": "f1608ed5-2f93-4f34-8ba5-d6985474e909",
   "metadata": {},
   "outputs": [],
   "source": [
    "import pandas as pd"
   ]
  },
  {
   "cell_type": "code",
   "execution_count": 14,
   "id": "a339e445-4982-41bb-b996-d3c9118828c4",
   "metadata": {},
   "outputs": [],
   "source": [
    "authors = pd.DataFrame({'author_id': [1, 2, 3],\n",
    "                        'author_name': ['Тургенев', 'Чехов', 'Островский']})"
   ]
  },
  {
   "cell_type": "code",
   "execution_count": 15,
   "id": "34dc3d5c-8e83-4785-85bd-be079a1e7632",
   "metadata": {},
   "outputs": [],
   "source": [
    "book = pd.DataFrame({'author_id': [1, 1, 1, 2, 2, 3, 3],\n",
    "                     'book_title': ['Отцы и дети', 'Рудин', 'Дворянское гнездо', 'Толстый и тонкий', 'Дама с собачкой', 'Гроза', 'Таланты и поклонники'],\n",
    "                     'price': [450, 300, 350, 500, 450, 370, 290]})"
   ]
  },
  {
   "cell_type": "code",
   "execution_count": 16,
   "id": "efd06183-586c-446a-9ce2-6f84ddf40e68",
   "metadata": {},
   "outputs": [
    {
     "data": {
      "text/html": [
       "<div>\n",
       "<style scoped>\n",
       "    .dataframe tbody tr th:only-of-type {\n",
       "        vertical-align: middle;\n",
       "    }\n",
       "\n",
       "    .dataframe tbody tr th {\n",
       "        vertical-align: top;\n",
       "    }\n",
       "\n",
       "    .dataframe thead th {\n",
       "        text-align: right;\n",
       "    }\n",
       "</style>\n",
       "<table border=\"1\" class=\"dataframe\">\n",
       "  <thead>\n",
       "    <tr style=\"text-align: right;\">\n",
       "      <th></th>\n",
       "      <th>author_id</th>\n",
       "      <th>author_name</th>\n",
       "    </tr>\n",
       "  </thead>\n",
       "  <tbody>\n",
       "    <tr>\n",
       "      <th>0</th>\n",
       "      <td>1</td>\n",
       "      <td>Тургенев</td>\n",
       "    </tr>\n",
       "    <tr>\n",
       "      <th>1</th>\n",
       "      <td>2</td>\n",
       "      <td>Чехов</td>\n",
       "    </tr>\n",
       "    <tr>\n",
       "      <th>2</th>\n",
       "      <td>3</td>\n",
       "      <td>Островский</td>\n",
       "    </tr>\n",
       "  </tbody>\n",
       "</table>\n",
       "</div>"
      ],
      "text/plain": [
       "   author_id author_name\n",
       "0          1    Тургенев\n",
       "1          2       Чехов\n",
       "2          3  Островский"
      ]
     },
     "execution_count": 16,
     "metadata": {},
     "output_type": "execute_result"
    }
   ],
   "source": [
    "authors"
   ]
  },
  {
   "cell_type": "code",
   "execution_count": 17,
   "id": "ea6e8473-f66d-4c0d-8ace-c782766e3b9a",
   "metadata": {},
   "outputs": [
    {
     "data": {
      "text/html": [
       "<div>\n",
       "<style scoped>\n",
       "    .dataframe tbody tr th:only-of-type {\n",
       "        vertical-align: middle;\n",
       "    }\n",
       "\n",
       "    .dataframe tbody tr th {\n",
       "        vertical-align: top;\n",
       "    }\n",
       "\n",
       "    .dataframe thead th {\n",
       "        text-align: right;\n",
       "    }\n",
       "</style>\n",
       "<table border=\"1\" class=\"dataframe\">\n",
       "  <thead>\n",
       "    <tr style=\"text-align: right;\">\n",
       "      <th></th>\n",
       "      <th>author_id</th>\n",
       "      <th>book_title</th>\n",
       "      <th>price</th>\n",
       "    </tr>\n",
       "  </thead>\n",
       "  <tbody>\n",
       "    <tr>\n",
       "      <th>0</th>\n",
       "      <td>1</td>\n",
       "      <td>Отцы и дети</td>\n",
       "      <td>450</td>\n",
       "    </tr>\n",
       "    <tr>\n",
       "      <th>1</th>\n",
       "      <td>1</td>\n",
       "      <td>Рудин</td>\n",
       "      <td>300</td>\n",
       "    </tr>\n",
       "    <tr>\n",
       "      <th>2</th>\n",
       "      <td>1</td>\n",
       "      <td>Дворянское гнездо</td>\n",
       "      <td>350</td>\n",
       "    </tr>\n",
       "    <tr>\n",
       "      <th>3</th>\n",
       "      <td>2</td>\n",
       "      <td>Толстый и тонкий</td>\n",
       "      <td>500</td>\n",
       "    </tr>\n",
       "    <tr>\n",
       "      <th>4</th>\n",
       "      <td>2</td>\n",
       "      <td>Дама с собачкой</td>\n",
       "      <td>450</td>\n",
       "    </tr>\n",
       "    <tr>\n",
       "      <th>5</th>\n",
       "      <td>3</td>\n",
       "      <td>Гроза</td>\n",
       "      <td>370</td>\n",
       "    </tr>\n",
       "    <tr>\n",
       "      <th>6</th>\n",
       "      <td>3</td>\n",
       "      <td>Таланты и поклонники</td>\n",
       "      <td>290</td>\n",
       "    </tr>\n",
       "  </tbody>\n",
       "</table>\n",
       "</div>"
      ],
      "text/plain": [
       "   author_id            book_title  price\n",
       "0          1           Отцы и дети    450\n",
       "1          1                 Рудин    300\n",
       "2          1     Дворянское гнездо    350\n",
       "3          2      Толстый и тонкий    500\n",
       "4          2       Дама с собачкой    450\n",
       "5          3                 Гроза    370\n",
       "6          3  Таланты и поклонники    290"
      ]
     },
     "execution_count": 17,
     "metadata": {},
     "output_type": "execute_result"
    }
   ],
   "source": [
    "book"
   ]
  },
  {
   "cell_type": "markdown",
   "id": "f1f38af1-7fd1-4c95-b7a6-a83a37e2ea45",
   "metadata": {},
   "source": [
    "##### Задание 2\n",
    "Получите датафрейм authors_price, соединив датафреймы authors и books по полю author_id."
   ]
  },
  {
   "cell_type": "code",
   "execution_count": 18,
   "id": "f602729a-5c8a-4750-b85d-31deeb5db605",
   "metadata": {},
   "outputs": [],
   "source": [
    "authors_price = pd.merge(authors, book, on='author_id', how='inner')"
   ]
  },
  {
   "cell_type": "code",
   "execution_count": 19,
   "id": "34d9a438-e482-4888-a14a-43b055f6c415",
   "metadata": {},
   "outputs": [
    {
     "data": {
      "text/html": [
       "<div>\n",
       "<style scoped>\n",
       "    .dataframe tbody tr th:only-of-type {\n",
       "        vertical-align: middle;\n",
       "    }\n",
       "\n",
       "    .dataframe tbody tr th {\n",
       "        vertical-align: top;\n",
       "    }\n",
       "\n",
       "    .dataframe thead th {\n",
       "        text-align: right;\n",
       "    }\n",
       "</style>\n",
       "<table border=\"1\" class=\"dataframe\">\n",
       "  <thead>\n",
       "    <tr style=\"text-align: right;\">\n",
       "      <th></th>\n",
       "      <th>author_id</th>\n",
       "      <th>author_name</th>\n",
       "      <th>book_title</th>\n",
       "      <th>price</th>\n",
       "    </tr>\n",
       "  </thead>\n",
       "  <tbody>\n",
       "    <tr>\n",
       "      <th>0</th>\n",
       "      <td>1</td>\n",
       "      <td>Тургенев</td>\n",
       "      <td>Отцы и дети</td>\n",
       "      <td>450</td>\n",
       "    </tr>\n",
       "    <tr>\n",
       "      <th>1</th>\n",
       "      <td>1</td>\n",
       "      <td>Тургенев</td>\n",
       "      <td>Рудин</td>\n",
       "      <td>300</td>\n",
       "    </tr>\n",
       "    <tr>\n",
       "      <th>2</th>\n",
       "      <td>1</td>\n",
       "      <td>Тургенев</td>\n",
       "      <td>Дворянское гнездо</td>\n",
       "      <td>350</td>\n",
       "    </tr>\n",
       "    <tr>\n",
       "      <th>3</th>\n",
       "      <td>2</td>\n",
       "      <td>Чехов</td>\n",
       "      <td>Толстый и тонкий</td>\n",
       "      <td>500</td>\n",
       "    </tr>\n",
       "    <tr>\n",
       "      <th>4</th>\n",
       "      <td>2</td>\n",
       "      <td>Чехов</td>\n",
       "      <td>Дама с собачкой</td>\n",
       "      <td>450</td>\n",
       "    </tr>\n",
       "    <tr>\n",
       "      <th>5</th>\n",
       "      <td>3</td>\n",
       "      <td>Островский</td>\n",
       "      <td>Гроза</td>\n",
       "      <td>370</td>\n",
       "    </tr>\n",
       "    <tr>\n",
       "      <th>6</th>\n",
       "      <td>3</td>\n",
       "      <td>Островский</td>\n",
       "      <td>Таланты и поклонники</td>\n",
       "      <td>290</td>\n",
       "    </tr>\n",
       "  </tbody>\n",
       "</table>\n",
       "</div>"
      ],
      "text/plain": [
       "   author_id author_name            book_title  price\n",
       "0          1    Тургенев           Отцы и дети    450\n",
       "1          1    Тургенев                 Рудин    300\n",
       "2          1    Тургенев     Дворянское гнездо    350\n",
       "3          2       Чехов      Толстый и тонкий    500\n",
       "4          2       Чехов       Дама с собачкой    450\n",
       "5          3  Островский                 Гроза    370\n",
       "6          3  Островский  Таланты и поклонники    290"
      ]
     },
     "execution_count": 19,
     "metadata": {},
     "output_type": "execute_result"
    }
   ],
   "source": [
    "authors_price"
   ]
  },
  {
   "cell_type": "markdown",
   "id": "e8725a60-4632-4c70-ae7b-122ac5c36d51",
   "metadata": {},
   "source": [
    "##### Задание 3\n",
    "Создайте датафрейм top5, в котором содержатся строки из authors_price с пятью самыми дорогими книгами."
   ]
  },
  {
   "cell_type": "code",
   "execution_count": 20,
   "id": "65c46763-8a7c-46ce-978b-c8ea1e2d7405",
   "metadata": {},
   "outputs": [],
   "source": [
    "top5 = authors_price.nlargest(5, 'price')"
   ]
  },
  {
   "cell_type": "code",
   "execution_count": 21,
   "id": "d40657bc-8962-4280-873e-e19d0cc6c719",
   "metadata": {},
   "outputs": [
    {
     "data": {
      "text/html": [
       "<div>\n",
       "<style scoped>\n",
       "    .dataframe tbody tr th:only-of-type {\n",
       "        vertical-align: middle;\n",
       "    }\n",
       "\n",
       "    .dataframe tbody tr th {\n",
       "        vertical-align: top;\n",
       "    }\n",
       "\n",
       "    .dataframe thead th {\n",
       "        text-align: right;\n",
       "    }\n",
       "</style>\n",
       "<table border=\"1\" class=\"dataframe\">\n",
       "  <thead>\n",
       "    <tr style=\"text-align: right;\">\n",
       "      <th></th>\n",
       "      <th>author_id</th>\n",
       "      <th>author_name</th>\n",
       "      <th>book_title</th>\n",
       "      <th>price</th>\n",
       "    </tr>\n",
       "  </thead>\n",
       "  <tbody>\n",
       "    <tr>\n",
       "      <th>3</th>\n",
       "      <td>2</td>\n",
       "      <td>Чехов</td>\n",
       "      <td>Толстый и тонкий</td>\n",
       "      <td>500</td>\n",
       "    </tr>\n",
       "    <tr>\n",
       "      <th>0</th>\n",
       "      <td>1</td>\n",
       "      <td>Тургенев</td>\n",
       "      <td>Отцы и дети</td>\n",
       "      <td>450</td>\n",
       "    </tr>\n",
       "    <tr>\n",
       "      <th>4</th>\n",
       "      <td>2</td>\n",
       "      <td>Чехов</td>\n",
       "      <td>Дама с собачкой</td>\n",
       "      <td>450</td>\n",
       "    </tr>\n",
       "    <tr>\n",
       "      <th>5</th>\n",
       "      <td>3</td>\n",
       "      <td>Островский</td>\n",
       "      <td>Гроза</td>\n",
       "      <td>370</td>\n",
       "    </tr>\n",
       "    <tr>\n",
       "      <th>2</th>\n",
       "      <td>1</td>\n",
       "      <td>Тургенев</td>\n",
       "      <td>Дворянское гнездо</td>\n",
       "      <td>350</td>\n",
       "    </tr>\n",
       "  </tbody>\n",
       "</table>\n",
       "</div>"
      ],
      "text/plain": [
       "   author_id author_name         book_title  price\n",
       "3          2       Чехов   Толстый и тонкий    500\n",
       "0          1    Тургенев        Отцы и дети    450\n",
       "4          2       Чехов    Дама с собачкой    450\n",
       "5          3  Островский              Гроза    370\n",
       "2          1    Тургенев  Дворянское гнездо    350"
      ]
     },
     "execution_count": 21,
     "metadata": {},
     "output_type": "execute_result"
    }
   ],
   "source": [
    "top5"
   ]
  },
  {
   "cell_type": "markdown",
   "id": "2070a18e-19aa-4aa0-b8e1-d2ad2592d0dd",
   "metadata": {},
   "source": [
    "##### Задание 4\n",
    "Создайте датафрейм authors_stat на основе информации из authors_price. В датафрейме authors_stat должны быть четыре столбца:\n",
    "author_name, min_price, max_price и mean_price,\n",
    "в которых должны содержаться соответственно имя автора, минимальная, максимальная и средняя цена на книги этого автора."
   ]
  },
  {
   "cell_type": "code",
   "execution_count": 22,
   "id": "346970e4-aa18-41b0-bdfa-71362c270f62",
   "metadata": {},
   "outputs": [],
   "source": [
    "authors_stat = pd.DataFrame({'min_price': authors_price.groupby('author_name')['price'].min(),\n",
    "                            'max_price': authors_price.groupby('author_name')['price'].max(),\n",
    "                            'mean_price': round(authors_price.groupby('author_name')['price'].mean(), 2)})"
   ]
  },
  {
   "cell_type": "code",
   "execution_count": 23,
   "id": "e0a192a7-cd12-4709-9083-77e25a069d85",
   "metadata": {},
   "outputs": [],
   "source": [
    "authors_stat.reset_index(inplace=True)"
   ]
  },
  {
   "cell_type": "code",
   "execution_count": 24,
   "id": "d90828f6-71bd-44af-9d28-bbe82a9b2d71",
   "metadata": {},
   "outputs": [
    {
     "data": {
      "text/html": [
       "<div>\n",
       "<style scoped>\n",
       "    .dataframe tbody tr th:only-of-type {\n",
       "        vertical-align: middle;\n",
       "    }\n",
       "\n",
       "    .dataframe tbody tr th {\n",
       "        vertical-align: top;\n",
       "    }\n",
       "\n",
       "    .dataframe thead th {\n",
       "        text-align: right;\n",
       "    }\n",
       "</style>\n",
       "<table border=\"1\" class=\"dataframe\">\n",
       "  <thead>\n",
       "    <tr style=\"text-align: right;\">\n",
       "      <th></th>\n",
       "      <th>author_name</th>\n",
       "      <th>min_price</th>\n",
       "      <th>max_price</th>\n",
       "      <th>mean_price</th>\n",
       "    </tr>\n",
       "  </thead>\n",
       "  <tbody>\n",
       "    <tr>\n",
       "      <th>0</th>\n",
       "      <td>Островский</td>\n",
       "      <td>290</td>\n",
       "      <td>370</td>\n",
       "      <td>330.00</td>\n",
       "    </tr>\n",
       "    <tr>\n",
       "      <th>1</th>\n",
       "      <td>Тургенев</td>\n",
       "      <td>300</td>\n",
       "      <td>450</td>\n",
       "      <td>366.67</td>\n",
       "    </tr>\n",
       "    <tr>\n",
       "      <th>2</th>\n",
       "      <td>Чехов</td>\n",
       "      <td>450</td>\n",
       "      <td>500</td>\n",
       "      <td>475.00</td>\n",
       "    </tr>\n",
       "  </tbody>\n",
       "</table>\n",
       "</div>"
      ],
      "text/plain": [
       "  author_name  min_price  max_price  mean_price\n",
       "0  Островский        290        370      330.00\n",
       "1    Тургенев        300        450      366.67\n",
       "2       Чехов        450        500      475.00"
      ]
     },
     "execution_count": 24,
     "metadata": {},
     "output_type": "execute_result"
    }
   ],
   "source": [
    "authors_stat"
   ]
  },
  {
   "cell_type": "markdown",
   "id": "af19c872-766d-4d18-b21f-3eb7a9efc42a",
   "metadata": {},
   "source": [
    "##### Задание 5**\n",
    "Создайте новый столбец в датафрейме authors_price под названием cover, в нем будут располагаться данные о том, какая обложка у данной книги - твердая или мягкая. В этот столбец поместите данные из следующего списка:\n",
    "['твердая', 'мягкая', 'мягкая', 'твердая', 'твердая', 'мягкая', 'мягкая'].\n",
    "Просмотрите документацию по функции pd.pivot_table с помощью вопросительного знака.Для каждого автора посчитайте суммарную стоимость книг в твердой и мягкой обложке. Используйте для этого функцию pd.pivot_table. При этом столбцы должны называться \"твердая\" и \"мягкая\", а индексами должны быть фамилии авторов. Пропущенные значения стоимостей заполните нулями, при необходимости загрузите библиотеку Numpy.\n",
    "Назовите полученный датасет book_info и сохраните его в формат pickle под названием \"book_info.pkl\". Затем загрузите из этого файла датафрейм и назовите его book_info2. Удостоверьтесь, что датафреймы book_info и book_info2 идентичны."
   ]
  },
  {
   "cell_type": "code",
   "execution_count": 25,
   "id": "bbe5250e-e22a-4e1d-89e5-d3e802c252be",
   "metadata": {},
   "outputs": [],
   "source": [
    "authors_price['cover'] = ['твердая', 'мягкая', 'мягкая', 'твердая', 'твердая', 'мягкая', 'мягкая']"
   ]
  },
  {
   "cell_type": "code",
   "execution_count": 26,
   "id": "6e4c41db-5eb6-4433-a54b-e671524dc764",
   "metadata": {},
   "outputs": [
    {
     "data": {
      "text/html": [
       "<div>\n",
       "<style scoped>\n",
       "    .dataframe tbody tr th:only-of-type {\n",
       "        vertical-align: middle;\n",
       "    }\n",
       "\n",
       "    .dataframe tbody tr th {\n",
       "        vertical-align: top;\n",
       "    }\n",
       "\n",
       "    .dataframe thead th {\n",
       "        text-align: right;\n",
       "    }\n",
       "</style>\n",
       "<table border=\"1\" class=\"dataframe\">\n",
       "  <thead>\n",
       "    <tr style=\"text-align: right;\">\n",
       "      <th></th>\n",
       "      <th>author_id</th>\n",
       "      <th>author_name</th>\n",
       "      <th>book_title</th>\n",
       "      <th>price</th>\n",
       "      <th>cover</th>\n",
       "    </tr>\n",
       "  </thead>\n",
       "  <tbody>\n",
       "    <tr>\n",
       "      <th>0</th>\n",
       "      <td>1</td>\n",
       "      <td>Тургенев</td>\n",
       "      <td>Отцы и дети</td>\n",
       "      <td>450</td>\n",
       "      <td>твердая</td>\n",
       "    </tr>\n",
       "    <tr>\n",
       "      <th>1</th>\n",
       "      <td>1</td>\n",
       "      <td>Тургенев</td>\n",
       "      <td>Рудин</td>\n",
       "      <td>300</td>\n",
       "      <td>мягкая</td>\n",
       "    </tr>\n",
       "    <tr>\n",
       "      <th>2</th>\n",
       "      <td>1</td>\n",
       "      <td>Тургенев</td>\n",
       "      <td>Дворянское гнездо</td>\n",
       "      <td>350</td>\n",
       "      <td>мягкая</td>\n",
       "    </tr>\n",
       "    <tr>\n",
       "      <th>3</th>\n",
       "      <td>2</td>\n",
       "      <td>Чехов</td>\n",
       "      <td>Толстый и тонкий</td>\n",
       "      <td>500</td>\n",
       "      <td>твердая</td>\n",
       "    </tr>\n",
       "    <tr>\n",
       "      <th>4</th>\n",
       "      <td>2</td>\n",
       "      <td>Чехов</td>\n",
       "      <td>Дама с собачкой</td>\n",
       "      <td>450</td>\n",
       "      <td>твердая</td>\n",
       "    </tr>\n",
       "    <tr>\n",
       "      <th>5</th>\n",
       "      <td>3</td>\n",
       "      <td>Островский</td>\n",
       "      <td>Гроза</td>\n",
       "      <td>370</td>\n",
       "      <td>мягкая</td>\n",
       "    </tr>\n",
       "    <tr>\n",
       "      <th>6</th>\n",
       "      <td>3</td>\n",
       "      <td>Островский</td>\n",
       "      <td>Таланты и поклонники</td>\n",
       "      <td>290</td>\n",
       "      <td>мягкая</td>\n",
       "    </tr>\n",
       "  </tbody>\n",
       "</table>\n",
       "</div>"
      ],
      "text/plain": [
       "   author_id author_name            book_title  price    cover\n",
       "0          1    Тургенев           Отцы и дети    450  твердая\n",
       "1          1    Тургенев                 Рудин    300   мягкая\n",
       "2          1    Тургенев     Дворянское гнездо    350   мягкая\n",
       "3          2       Чехов      Толстый и тонкий    500  твердая\n",
       "4          2       Чехов       Дама с собачкой    450  твердая\n",
       "5          3  Островский                 Гроза    370   мягкая\n",
       "6          3  Островский  Таланты и поклонники    290   мягкая"
      ]
     },
     "execution_count": 26,
     "metadata": {},
     "output_type": "execute_result"
    }
   ],
   "source": [
    "authors_price"
   ]
  },
  {
   "cell_type": "code",
   "execution_count": 27,
   "id": "f6cbb89b-adcc-4bbd-922a-5af45ed1d54c",
   "metadata": {},
   "outputs": [
    {
     "data": {
      "text/plain": [
       "\u001b[1;31mSignature:\u001b[0m\n",
       "\u001b[0mpd\u001b[0m\u001b[1;33m.\u001b[0m\u001b[0mpivot_table\u001b[0m\u001b[1;33m(\u001b[0m\u001b[1;33m\n",
       "\u001b[0m    \u001b[0mdata\u001b[0m\u001b[1;33m,\u001b[0m\u001b[1;33m\n",
       "\u001b[0m    \u001b[0mvalues\u001b[0m\u001b[1;33m=\u001b[0m\u001b[1;32mNone\u001b[0m\u001b[1;33m,\u001b[0m\u001b[1;33m\n",
       "\u001b[0m    \u001b[0mindex\u001b[0m\u001b[1;33m=\u001b[0m\u001b[1;32mNone\u001b[0m\u001b[1;33m,\u001b[0m\u001b[1;33m\n",
       "\u001b[0m    \u001b[0mcolumns\u001b[0m\u001b[1;33m=\u001b[0m\u001b[1;32mNone\u001b[0m\u001b[1;33m,\u001b[0m\u001b[1;33m\n",
       "\u001b[0m    \u001b[0maggfunc\u001b[0m\u001b[1;33m=\u001b[0m\u001b[1;34m'mean'\u001b[0m\u001b[1;33m,\u001b[0m\u001b[1;33m\n",
       "\u001b[0m    \u001b[0mfill_value\u001b[0m\u001b[1;33m=\u001b[0m\u001b[1;32mNone\u001b[0m\u001b[1;33m,\u001b[0m\u001b[1;33m\n",
       "\u001b[0m    \u001b[0mmargins\u001b[0m\u001b[1;33m=\u001b[0m\u001b[1;32mFalse\u001b[0m\u001b[1;33m,\u001b[0m\u001b[1;33m\n",
       "\u001b[0m    \u001b[0mdropna\u001b[0m\u001b[1;33m=\u001b[0m\u001b[1;32mTrue\u001b[0m\u001b[1;33m,\u001b[0m\u001b[1;33m\n",
       "\u001b[0m    \u001b[0mmargins_name\u001b[0m\u001b[1;33m=\u001b[0m\u001b[1;34m'All'\u001b[0m\u001b[1;33m,\u001b[0m\u001b[1;33m\n",
       "\u001b[0m    \u001b[0mobserved\u001b[0m\u001b[1;33m=\u001b[0m\u001b[1;32mFalse\u001b[0m\u001b[1;33m,\u001b[0m\u001b[1;33m\n",
       "\u001b[0m\u001b[1;33m)\u001b[0m \u001b[1;33m->\u001b[0m \u001b[1;34m'DataFrame'\u001b[0m\u001b[1;33m\u001b[0m\u001b[1;33m\u001b[0m\u001b[0m\n",
       "\u001b[1;31mDocstring:\u001b[0m\n",
       "Create a spreadsheet-style pivot table as a DataFrame.\n",
       "\n",
       "The levels in the pivot table will be stored in MultiIndex objects\n",
       "(hierarchical indexes) on the index and columns of the result DataFrame.\n",
       "\n",
       "Parameters\n",
       "----------\n",
       "data : DataFrame\n",
       "values : column to aggregate, optional\n",
       "index : column, Grouper, array, or list of the previous\n",
       "    If an array is passed, it must be the same length as the data. The\n",
       "    list can contain any of the other types (except list).\n",
       "    Keys to group by on the pivot table index.  If an array is passed,\n",
       "    it is being used as the same manner as column values.\n",
       "columns : column, Grouper, array, or list of the previous\n",
       "    If an array is passed, it must be the same length as the data. The\n",
       "    list can contain any of the other types (except list).\n",
       "    Keys to group by on the pivot table column.  If an array is passed,\n",
       "    it is being used as the same manner as column values.\n",
       "aggfunc : function, list of functions, dict, default numpy.mean\n",
       "    If list of functions passed, the resulting pivot table will have\n",
       "    hierarchical columns whose top level are the function names\n",
       "    (inferred from the function objects themselves)\n",
       "    If dict is passed, the key is column to aggregate and value\n",
       "    is function or list of functions.\n",
       "fill_value : scalar, default None\n",
       "    Value to replace missing values with (in the resulting pivot table,\n",
       "    after aggregation).\n",
       "margins : bool, default False\n",
       "    Add all row / columns (e.g. for subtotal / grand totals).\n",
       "dropna : bool, default True\n",
       "    Do not include columns whose entries are all NaN.\n",
       "margins_name : str, default 'All'\n",
       "    Name of the row / column that will contain the totals\n",
       "    when margins is True.\n",
       "observed : bool, default False\n",
       "    This only applies if any of the groupers are Categoricals.\n",
       "    If True: only show observed values for categorical groupers.\n",
       "    If False: show all values for categorical groupers.\n",
       "\n",
       "    .. versionchanged:: 0.25.0\n",
       "\n",
       "Returns\n",
       "-------\n",
       "DataFrame\n",
       "    An Excel style pivot table.\n",
       "\n",
       "See Also\n",
       "--------\n",
       "DataFrame.pivot : Pivot without aggregation that can handle\n",
       "    non-numeric data.\n",
       "DataFrame.melt: Unpivot a DataFrame from wide to long format,\n",
       "    optionally leaving identifiers set.\n",
       "wide_to_long : Wide panel to long format. Less flexible but more\n",
       "    user-friendly than melt.\n",
       "\n",
       "Examples\n",
       "--------\n",
       ">>> df = pd.DataFrame({\"A\": [\"foo\", \"foo\", \"foo\", \"foo\", \"foo\",\n",
       "...                          \"bar\", \"bar\", \"bar\", \"bar\"],\n",
       "...                    \"B\": [\"one\", \"one\", \"one\", \"two\", \"two\",\n",
       "...                          \"one\", \"one\", \"two\", \"two\"],\n",
       "...                    \"C\": [\"small\", \"large\", \"large\", \"small\",\n",
       "...                          \"small\", \"large\", \"small\", \"small\",\n",
       "...                          \"large\"],\n",
       "...                    \"D\": [1, 2, 2, 3, 3, 4, 5, 6, 7],\n",
       "...                    \"E\": [2, 4, 5, 5, 6, 6, 8, 9, 9]})\n",
       ">>> df\n",
       "     A    B      C  D  E\n",
       "0  foo  one  small  1  2\n",
       "1  foo  one  large  2  4\n",
       "2  foo  one  large  2  5\n",
       "3  foo  two  small  3  5\n",
       "4  foo  two  small  3  6\n",
       "5  bar  one  large  4  6\n",
       "6  bar  one  small  5  8\n",
       "7  bar  two  small  6  9\n",
       "8  bar  two  large  7  9\n",
       "\n",
       "This first example aggregates values by taking the sum.\n",
       "\n",
       ">>> table = pd.pivot_table(df, values='D', index=['A', 'B'],\n",
       "...                     columns=['C'], aggfunc=np.sum)\n",
       ">>> table\n",
       "C        large  small\n",
       "A   B\n",
       "bar one    4.0    5.0\n",
       "    two    7.0    6.0\n",
       "foo one    4.0    1.0\n",
       "    two    NaN    6.0\n",
       "\n",
       "We can also fill missing values using the `fill_value` parameter.\n",
       "\n",
       ">>> table = pd.pivot_table(df, values='D', index=['A', 'B'],\n",
       "...                     columns=['C'], aggfunc=np.sum, fill_value=0)\n",
       ">>> table\n",
       "C        large  small\n",
       "A   B\n",
       "bar one      4      5\n",
       "    two      7      6\n",
       "foo one      4      1\n",
       "    two      0      6\n",
       "\n",
       "The next example aggregates by taking the mean across multiple columns.\n",
       "\n",
       ">>> table = pd.pivot_table(df, values=['D', 'E'], index=['A', 'C'],\n",
       "...                     aggfunc={'D': np.mean,\n",
       "...                              'E': np.mean})\n",
       ">>> table\n",
       "                D         E\n",
       "A   C\n",
       "bar large  5.500000  7.500000\n",
       "    small  5.500000  8.500000\n",
       "foo large  2.000000  4.500000\n",
       "    small  2.333333  4.333333\n",
       "\n",
       "We can also calculate multiple types of aggregations for any given\n",
       "value column.\n",
       "\n",
       ">>> table = pd.pivot_table(df, values=['D', 'E'], index=['A', 'C'],\n",
       "...                     aggfunc={'D': np.mean,\n",
       "...                              'E': [min, max, np.mean]})\n",
       ">>> table\n",
       "                D    E\n",
       "            mean  max      mean  min\n",
       "A   C\n",
       "bar large  5.500000  9.0  7.500000  6.0\n",
       "    small  5.500000  9.0  8.500000  8.0\n",
       "foo large  2.000000  5.0  4.500000  4.0\n",
       "    small  2.333333  6.0  4.333333  2.0\n",
       "\u001b[1;31mFile:\u001b[0m      c:\\users\\shkin\\documents\\учеба\\python\\pyprojects\\data_science_modules_1\\venv\\lib\\site-packages\\pandas\\core\\reshape\\pivot.py\n",
       "\u001b[1;31mType:\u001b[0m      function\n"
      ]
     },
     "metadata": {},
     "output_type": "display_data"
    }
   ],
   "source": [
    "?pd.pivot_table"
   ]
  },
  {
   "cell_type": "code",
   "execution_count": 28,
   "id": "672f385c-eef4-463c-94aa-0b63aea55fc7",
   "metadata": {},
   "outputs": [],
   "source": [
    "book_info = pd.pivot_table(authors_price, values='price', index='author_name', columns='cover', aggfunc=sum, fill_value=0)"
   ]
  },
  {
   "cell_type": "code",
   "execution_count": 29,
   "id": "d83bf712-3c9b-417b-ad1e-aac14bbf3182",
   "metadata": {},
   "outputs": [
    {
     "data": {
      "text/html": [
       "<div>\n",
       "<style scoped>\n",
       "    .dataframe tbody tr th:only-of-type {\n",
       "        vertical-align: middle;\n",
       "    }\n",
       "\n",
       "    .dataframe tbody tr th {\n",
       "        vertical-align: top;\n",
       "    }\n",
       "\n",
       "    .dataframe thead th {\n",
       "        text-align: right;\n",
       "    }\n",
       "</style>\n",
       "<table border=\"1\" class=\"dataframe\">\n",
       "  <thead>\n",
       "    <tr style=\"text-align: right;\">\n",
       "      <th>cover</th>\n",
       "      <th>мягкая</th>\n",
       "      <th>твердая</th>\n",
       "    </tr>\n",
       "    <tr>\n",
       "      <th>author_name</th>\n",
       "      <th></th>\n",
       "      <th></th>\n",
       "    </tr>\n",
       "  </thead>\n",
       "  <tbody>\n",
       "    <tr>\n",
       "      <th>Островский</th>\n",
       "      <td>660</td>\n",
       "      <td>0</td>\n",
       "    </tr>\n",
       "    <tr>\n",
       "      <th>Тургенев</th>\n",
       "      <td>650</td>\n",
       "      <td>450</td>\n",
       "    </tr>\n",
       "    <tr>\n",
       "      <th>Чехов</th>\n",
       "      <td>0</td>\n",
       "      <td>950</td>\n",
       "    </tr>\n",
       "  </tbody>\n",
       "</table>\n",
       "</div>"
      ],
      "text/plain": [
       "cover        мягкая  твердая\n",
       "author_name                 \n",
       "Островский      660        0\n",
       "Тургенев        650      450\n",
       "Чехов             0      950"
      ]
     },
     "execution_count": 29,
     "metadata": {},
     "output_type": "execute_result"
    }
   ],
   "source": [
    "book_info"
   ]
  },
  {
   "cell_type": "code",
   "execution_count": 30,
   "id": "ad27e7a4-fc58-4e81-9c5a-7b581f93e0a5",
   "metadata": {},
   "outputs": [],
   "source": [
    "book_info.to_pickle('book_info.pkl')"
   ]
  },
  {
   "cell_type": "code",
   "execution_count": 31,
   "id": "68e71653-7234-4752-b6c8-fd13a8dcf018",
   "metadata": {},
   "outputs": [],
   "source": [
    "book_info2 = pd.read_pickle('book_info.pkl')"
   ]
  },
  {
   "cell_type": "code",
   "execution_count": 32,
   "id": "21c225cb-3e6b-46a4-a247-c167597e6220",
   "metadata": {},
   "outputs": [
    {
     "data": {
      "text/html": [
       "<div>\n",
       "<style scoped>\n",
       "    .dataframe tbody tr th:only-of-type {\n",
       "        vertical-align: middle;\n",
       "    }\n",
       "\n",
       "    .dataframe tbody tr th {\n",
       "        vertical-align: top;\n",
       "    }\n",
       "\n",
       "    .dataframe thead th {\n",
       "        text-align: right;\n",
       "    }\n",
       "</style>\n",
       "<table border=\"1\" class=\"dataframe\">\n",
       "  <thead>\n",
       "    <tr style=\"text-align: right;\">\n",
       "      <th>cover</th>\n",
       "      <th>мягкая</th>\n",
       "      <th>твердая</th>\n",
       "    </tr>\n",
       "    <tr>\n",
       "      <th>author_name</th>\n",
       "      <th></th>\n",
       "      <th></th>\n",
       "    </tr>\n",
       "  </thead>\n",
       "  <tbody>\n",
       "    <tr>\n",
       "      <th>Островский</th>\n",
       "      <td>660</td>\n",
       "      <td>0</td>\n",
       "    </tr>\n",
       "    <tr>\n",
       "      <th>Тургенев</th>\n",
       "      <td>650</td>\n",
       "      <td>450</td>\n",
       "    </tr>\n",
       "    <tr>\n",
       "      <th>Чехов</th>\n",
       "      <td>0</td>\n",
       "      <td>950</td>\n",
       "    </tr>\n",
       "  </tbody>\n",
       "</table>\n",
       "</div>"
      ],
      "text/plain": [
       "cover        мягкая  твердая\n",
       "author_name                 \n",
       "Островский      660        0\n",
       "Тургенев        650      450\n",
       "Чехов             0      950"
      ]
     },
     "execution_count": 32,
     "metadata": {},
     "output_type": "execute_result"
    }
   ],
   "source": [
    "book_info2"
   ]
  }
 ],
 "metadata": {
  "kernelspec": {
   "display_name": "Python 3",
   "language": "python",
   "name": "python3"
  },
  "language_info": {
   "codemirror_mode": {
    "name": "ipython",
    "version": 3
   },
   "file_extension": ".py",
   "mimetype": "text/x-python",
   "name": "python",
   "nbconvert_exporter": "python",
   "pygments_lexer": "ipython3",
   "version": "3.9.5"
  }
 },
 "nbformat": 4,
 "nbformat_minor": 5
}
